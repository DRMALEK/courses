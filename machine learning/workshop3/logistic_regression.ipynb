{
 "cells": [
  {
   "cell_type": "code",
   "execution_count": 10,
   "metadata": {},
   "outputs": [],
   "source": [
    "import pandas as pd\n",
    "import numpy as np\n",
    "import matplotlib.pyplot as plt\n",
    "import math\n",
    "import scipy.optimize as optimize\n",
    "\n",
    "from IPython.core.display import SVG\n",
    "from IPython.core.display import HTML"
   ]
  },
  {
   "cell_type": "code",
   "execution_count": 12,
   "metadata": {},
   "outputs": [
    {
     "name": "stdout",
     "output_type": "stream",
     "text": [
      "    Bias  first_exam  second_exam  Accepted_or_not\n",
      "0    1.0   34.623660    78.024693                0\n",
      "1    1.0   30.286711    43.894998                0\n",
      "2    1.0   35.847409    72.902198                0\n",
      "3    1.0   60.182599    86.308552                1\n",
      "4    1.0   79.032736    75.344376                1\n",
      "..   ...         ...          ...              ...\n",
      "95   1.0   83.489163    48.380286                1\n",
      "96   1.0   42.261701    87.103851                1\n",
      "97   1.0   99.315009    68.775409                1\n",
      "98   1.0   55.340018    64.931938                1\n",
      "99   1.0   74.775893    89.529813                1\n",
      "\n",
      "[100 rows x 4 columns]\n"
     ]
    }
   ],
   "source": [
    "#Reading the data\n",
    "dataset = pd.read_csv(filepath_or_buffer=\"ex2data1.txt\", delimiter=\",\", names=[\"first_exam\", \"second_exam\", \"Accepted_or_not\"])\n",
    "\n",
    "dataset.insert(value=np.ones(len(dataset.index)),loc=0, column=\"Bias\")\n",
    "\n",
    "print(dataset)"
   ]
  },
  {
   "cell_type": "code",
   "execution_count": 14,
   "metadata": {},
   "outputs": [
    {
     "data": {
      "image/png": "[encoded data removed]",
      "text/plain": [
       "<Figure size 432x288 with 1 Axes>"
      ]
     },
     "metadata": {},
     "output_type": "display_data"
    }
   ],
   "source": [
    "first_exam_scores = dataset[\"first_exam\"].values\n",
    "second_exam_scores = dataset[\"second_exam\"].values\n",
    "acceptance = dataset[\"Accepted_or_not\"].values\n",
    "\n",
    "\n",
    "#map every acceptance stiuation into color, blue accepted, red not accepted\n",
    "colors = [\"blue\" if i == 1 else \"red\" for i in acceptance]\n",
    "\n",
    "\n",
    "plt.xlabel(\"First exam scores\")\n",
    "plt.ylabel(\"Second exam scores\")\n",
    "plt.scatter( x = first_exam_scores, y = second_exam_scores, c = colors)\n",
    "plt.show(\"figure\")"
   ]
  },
  {
   "cell_type": "code",
   "execution_count": 17,
   "metadata": {},
   "outputs": [
    {
     "data": {
      "text/plain": [
       "0.5"
      ]
     },
     "execution_count": 17,
     "metadata": {},
     "output_type": "execute_result"
    }
   ],
   "source": [
    "#Sigmoid function implementation\n",
    "def sigmoid(x):\n",
    "    return 1 / (1 + np.exp(-1 * x))\n",
    "\n",
    "sigmoid(0)"
   ]
  },
  {
   "cell_type": "code",
   "execution_count": 18,
   "metadata": {},
   "outputs": [
    {
     "data": {
      "text/html": [
       "<p><strong>Cost function</strong><p>"
      ],
      "text/plain": [
       "<IPython.core.display.HTML object>"
      ]
     },
     "metadata": {},
     "output_type": "display_data"
    },
    {
     "data": {
      "text/html": [
       "<img src='math.svg' width='600px'/>"
      ],
      "text/plain": [
       "<IPython.core.display.HTML object>"
      ]
     },
     "metadata": {},
     "output_type": "display_data"
    },
    {
     "data": {
      "text/html": [
       "<p><strong>Gradient Function</strong><p>"
      ],
      "text/plain": [
       "<IPython.core.display.HTML object>"
      ]
     },
     "metadata": {},
     "output_type": "display_data"
    },
    {
     "data": {
      "text/html": [
       "<img src='math2.svg' width='440px'/>"
      ],
      "text/plain": [
       "<IPython.core.display.HTML object>"
      ]
     },
     "metadata": {},
     "output_type": "display_data"
    }
   ],
   "source": [
    "display(HTML(\"<p><strong>Cost function</strong><p>\"))\n",
    "display(HTML(\"<img src='math.svg' width='600px'/>\"))\n",
    "display(HTML(\"<p><strong>Gradient Function</strong><p>\"))\n",
    "display(HTML(\"<img src='math2.svg' width='440px'/>\"))"
   ]
  },
  {
   "cell_type": "code",
   "execution_count": 27,
   "metadata": {},
   "outputs": [],
   "source": [
    "#Vectorized cost function\n",
    "def vecotrized_cost(thetas_matrix, features_matrix, labels_array):\n",
    "    count = len(labels_array)\n",
    "\n",
    "    cost = -1 * labels_array * np.log(sigmoid( np.matmul(features_matrix, np.transpose(thetas_matrix)))) - \\\n",
    "            (1 - labels_array) * np.log(1 - sigmoid( np.matmul(features_matrix, np.transpose(thetas_matrix) ) ))\n",
    "    \n",
    "    cost = np.sum(cost)\n",
    "    \n",
    "    cost = cost * ( 1 / count )   \n",
    "        \n",
    "    return cost"
   ]
  },
  {
   "cell_type": "code",
   "execution_count": 28,
   "metadata": {},
   "outputs": [],
   "source": [
    "# Gradient function for the cost\n",
    "def gradient(thetas_matrix, features_matrix, labels_array):\n",
    "    \n",
    "    count = len(labels_array)        \n",
    "    \n",
    "    hypothesis_value = sigmoid( np.matmul(features_matrix, np.transpose(thetas_matrix) ) )\n",
    "        \n",
    "    grad = ( 1 / count ) * np.matmul( np.transpose(features_matrix), (hypothesis_value - labels_array))\n",
    "    \n",
    "    return grad"
   ]
  },
  {
   "cell_type": "code",
   "execution_count": 30,
   "metadata": {},
   "outputs": [
    {
     "name": "stdout",
     "output_type": "stream",
     "text": [
      "[-25.16131869   0.20623159   0.20147149]\n"
     ]
    }
   ],
   "source": [
    "#prepare the data for training\n",
    "labels_array = dataset[\"Accepted_or_not\"].values\n",
    "labels_array = labels_array[:, np.newaxis]\n",
    "\n",
    "features_matrix = dataset.loc[:, 'Bias':'second_exam'].values\n",
    "\n",
    "theta = np.zeros((1,3))    #3 becasuse we have three features\n",
    "\n",
    "\n",
    "#in this time gonna not use gradient decent algorithm, instead we will use optimize function from scipy library\n",
    "results  =  optimize.fmin_tnc(func=vecotrized_cost, x0= theta.flatten(), args=(features_matrix, labels_array.flatten()),\n",
    "                              fprime = gradient)\n",
    "\n",
    "print(results[0])"
   ]
  },
  {
   "cell_type": "code",
   "execution_count": 31,
   "metadata": {},
   "outputs": [
    {
     "name": "stdout",
     "output_type": "stream",
     "text": [
      "0.2034977015894743\n"
     ]
    }
   ],
   "source": [
    "theta_optimized = results[0].reshape((1,3))\n",
    "new_cost = vecotrized_cost(theta_optimized, features_matrix, labels_array)\n",
    "print(new_cost)"
   ]
  },
  {
   "cell_type": "code",
   "execution_count": 32,
   "metadata": {},
   "outputs": [
    {
     "data": {
      "text/plain": [
       "<matplotlib.collections.PathCollection at 0x7f9615f3fcf8>"
      ]
     },
     "execution_count": 32,
     "metadata": {},
     "output_type": "execute_result"
    },
    {
     "data": {
      "image/png": "[encoded data removed]",
      "text/plain": [
       "<Figure size 432x288 with 1 Axes>"
      ]
     },
     "metadata": {},
     "output_type": "display_data"
    }
   ],
   "source": [
    "#Plotting Decision Boundary\n",
    "theta_optimized = results[0]\n",
    "plot_x = [np.min(features_matrix[:,1]-2), np.max(features_matrix[:,2]+2)]\n",
    "plot_y = -1/theta_optimized[2]*(theta_optimized[0] \n",
    "          + np.dot(theta_optimized[1],plot_x))\n",
    "\n",
    "plt.plot(plot_x, plot_y, color=\"black\")\n",
    "\n",
    "colors = [\"blue\" if i == 1 else \"red\" for i in acceptance]\n",
    "plt.xlabel(\"First exam scores\")\n",
    "plt.ylabel(\"Second exam scores\")\n",
    "plt.scatter( x = first_exam_scores, y = second_exam_scores, c = colors)\n"
   ]
  },
  {
   "cell_type": "code",
   "execution_count": null,
   "metadata": {},
   "outputs": [],
   "source": []
  },
  {
   "cell_type": "code",
   "execution_count": null,
   "metadata": {},
   "outputs": [],
   "source": []
  },
  {
   "cell_type": "code",
   "execution_count": null,
   "metadata": {},
   "outputs": [],
   "source": []
  },
  {
   "cell_type": "code",
   "execution_count": null,
   "metadata": {},
   "outputs": [],
   "source": [
    "\n",
    "\n",
    "\n",
    "\n",
    "\n",
    "\n",
    "\n",
    "\n",
    "\n",
    "\n",
    "\n",
    "\n",
    "\n"
   ]
  }
 ],
 "metadata": {
  "kernelspec": {
   "display_name": "Python 3",
   "language": "python",
   "name": "python3"
  },
  "language_info": {
   "codemirror_mode": {
    "name": "ipython",
    "version": 3
   },
   "file_extension": ".py",
   "mimetype": "text/x-python",
   "name": "python",
   "nbconvert_exporter": "python",
   "pygments_lexer": "ipython3",
   "version": "3.6.4"
  }
 },
 "nbformat": 4,
 "nbformat_minor": 2
}
