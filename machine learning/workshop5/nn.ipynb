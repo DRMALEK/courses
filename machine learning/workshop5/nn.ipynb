{
 "cells": [
  {
   "cell_type": "code",
   "execution_count": 39,
   "metadata": {},
   "outputs": [],
   "source": [
    "import numpy as np\n",
    "import matplotlib.pyplot as plt\n",
    "import scipy.io as sio\n",
    "from sklearn.model_selection import train_test_split\n",
    "from sklearn.preprocessing import OneHotEncoder\n",
    "\n",
    "# Veri kümesini yükleyelim\n",
    "dataset = sio.loadmat('ex4data1.mat')\n",
    "# m = kaç tane resmimiz var?\n",
    "m = dataset['X'].shape[0]\n",
    "\n",
    "# Veri kümemizi eğitim ve doğrulama olarak ikiye ayırıyoruz.\n",
    "x, val_x, y, val_y = train_test_split(dataset['X'], dataset['y'], test_size=0.2, random_state=42)\n",
    "\n",
    "y_one_hot = y\n",
    "enc = OneHotEncoder()\n",
    "enc.fit(y_one_hot)\n",
    "y_one_hot = enc.transform(y_one_hot).toarray()\n",
    "\n",
    "# Girdi ve Çıktı Boyutlarını girelim\n",
    "N, D_in, H, D_out = m, 400, 100, 10"
   ]
  },
  {
   "cell_type": "code",
   "execution_count": 40,
   "metadata": {},
   "outputs": [],
   "source": [
    "# Ağırlıklar rasgele ilk değerler atanmıştır\n",
    "w1 = np.random.randn(D_in, H)\n",
    "w2 = np.random.randn(H, D_out)\n",
    "b1 = np.zeros((1,))\n",
    "b2 = np.zeros((1,))"
   ]
  },
  {
   "cell_type": "code",
   "execution_count": 41,
   "metadata": {},
   "outputs": [],
   "source": [
    "# Non-linearity Fonksiyonumuz : ReLU ve türevi\n",
    "def relu(x):\n",
    "    return np.maximum(x, 0)\n",
    "\n",
    "def softmax(x):\n",
    "    for i in range(x.shape[0]):\n",
    "        x[i]\n",
    "        x[i] = np.exp(x[i])/ np.sum(np.exp(x[i]), axis=0)\n",
    "    return x\n",
    "\n",
    "def softmax_backward(x):\n",
    "    return x *(1. - x)\n",
    "\n",
    "def relu_backward(x):\n",
    "    return (x > 0).astype(float)\n",
    "\n",
    "def sigmoid(x):\n",
    "    return 1/(1 + np.exp(-x))\n",
    "\n",
    "def sigmoid_backward(x):\n",
    "    return x*(1-x)"
   ]
  },
  {
   "cell_type": "code",
   "execution_count": 42,
   "metadata": {},
   "outputs": [
    {
     "data": {
      "text/html": [
       "<img src='cost.png' title='Title text' />"
      ],
      "text/plain": [
       "<IPython.core.display.HTML object>"
      ]
     },
     "metadata": {},
     "output_type": "display_data"
    }
   ],
   "source": [
    "from IPython.core.display import SVG\n",
    "from IPython.core.display import HTML\n",
    "\n",
    "display(HTML(\"<img src='cost.png' title='Title text' />\"))\n"
   ]
  },
  {
   "cell_type": "code",
   "execution_count": 43,
   "metadata": {},
   "outputs": [],
   "source": [
    "# Loss değerleri listesi \n",
    "j_history =  []\n",
    "\n",
    "learning_rate = 0.1\n",
    "m = x.shape[0]\n",
    "\n",
    "for t in range(3000):\n",
    "    # Forward pass: tahmini y değerlerini hesapla\n",
    "    h1 = x.dot(w1) + b1\n",
    "    a1 = relu(h1)\n",
    "    h2 = a1.dot(w2)+ b2\n",
    "    a2 = softmax(h2/10)\n",
    "    y_pred = a2\n",
    "\n",
    "    # Loss'u hesapla ve geçmişe at\n",
    "    loss =-np.sum(np.multiply(y_one_hot,np.log(y_pred))+np.multiply(1-y_one_hot,np.log(1-y_pred))) /m\n",
    "    j_history.append(loss)\n",
    "    \n",
    "    # Loss'un w1 ve w2' ye göre türevleri\n",
    "    da2 = -((np.divide(y_one_hot,y_pred) - np.divide(1-y_one_hot,1-y_pred)))/m\n",
    "    dh2 = np.multiply(da2,softmax_backward(a2))\n",
    "    dw2 =  a1.T.dot(dh2)\n",
    "    db2 = np.sum(dh2)\n",
    "    da1 = w2.dot(dh2.T).T\n",
    "    dh1 = np.multiply(relu_backward(h1),da1)\n",
    "    dw1 = np.matmul(x.T,dh1)\n",
    "    db1 = np.sum(dh1)\n",
    "    \n",
    "    # Loss türev\n",
    "    # türev w2 \n",
    "    \n",
    "    # Ağırlıkları güncelle\n",
    "    w1 -= learning_rate * dw1\n",
    "    b1 -= learning_rate * db1\n",
    "    w2 -= learning_rate * dw2\n",
    "    b2 -= learning_rate * db2"
   ]
  },
  {
   "cell_type": "code",
   "execution_count": 44,
   "metadata": {},
   "outputs": [
    {
     "data": {
      "text/plain": [
       "[<matplotlib.lines.Line2D at 0x7f2380988a58>]"
      ]
     },
     "execution_count": 44,
     "metadata": {},
     "output_type": "execute_result"
    },
    {
     "data": {
      "image/png": "[encoded data removed]",
      "text/plain": [
       "<Figure size 432x288 with 1 Axes>"
      ]
     },
     "metadata": {
      "needs_background": "light"
     },
     "output_type": "display_data"
    }
   ],
   "source": [
    "plt.plot(j_history)"
   ]
  },
  {
   "cell_type": "code",
   "execution_count": 45,
   "metadata": {},
   "outputs": [
    {
     "name": "stdout",
     "output_type": "stream",
     "text": [
      "(1000, 1)\n"
     ]
    }
   ],
   "source": [
    "# Doğrulama (Validation) verisi üzerinden başarım oranı hesaplanacak\n",
    "# Önce doğrulama verisinden tahminler alalım\n",
    "\n",
    "h = val_x.dot(w1)\n",
    "a1 = relu(h)\n",
    "h2 = a1.dot(w2)+ b2\n",
    "a2 = softmax(h2/100)\n",
    "y_pred = a2\n",
    "print(val_y.shape)"
   ]
  },
  {
   "cell_type": "code",
   "execution_count": 46,
   "metadata": {},
   "outputs": [
    {
     "name": "stdout",
     "output_type": "stream",
     "text": [
      "Başarım Oranı: 91.3\n"
     ]
    }
   ],
   "source": [
    "# Başarım Oranını hesaplayalım\n",
    "\n",
    "counter = 0\n",
    "for i, j in zip(val_y, np.argmax(y_pred, axis=1)+1):\n",
    "    # print('{}-{}-{}'.format(i,j,i==j))\n",
    "    if i == j:\n",
    "        counter += 1\n",
    "\n",
    "# print(val_y.shape[0])\n",
    "# print(counter)\n",
    "print(\"Başarım Oranı: {}\".format(counter  / val_y.shape[0]*100))\n"
   ]
  },
  {
   "cell_type": "code",
   "execution_count": null,
   "metadata": {},
   "outputs": [],
   "source": []
  },
  {
   "cell_type": "code",
   "execution_count": null,
   "metadata": {},
   "outputs": [],
   "source": []
  },
  {
   "cell_type": "code",
   "execution_count": null,
   "metadata": {},
   "outputs": [],
   "source": []
  }
 ],
 "metadata": {
  "kernelspec": {
   "display_name": "Python 3",
   "language": "python",
   "name": "python3"
  },
  "language_info": {
   "codemirror_mode": {
    "name": "ipython",
    "version": 3
   },
   "file_extension": ".py",
   "mimetype": "text/x-python",
   "name": "python",
   "nbconvert_exporter": "python",
   "pygments_lexer": "ipython3",
   "version": "3.6.5"
  }
 },
 "nbformat": 4,
 "nbformat_minor": 2
}
