{
 "cells": [
  {
   "cell_type": "markdown",
   "metadata": {},
   "source": [
    "# Yapay sinir ağları\n",
    "\n",
    "## İçerik\n",
    "1. Teorik bilgi\n",
    "    1. Neden YSA\n",
    "    2. Non-linearity\n",
    "2. Uygulama\n"
   ]
  },
  {
   "cell_type": "markdown",
   "metadata": {},
   "source": [
    "# Neden Yapay Sinir Ağları\n",
    "Geçen haftalardaki problemimizi ve modellerimizi hatırlayalım: **ev fiyatı tahmini** için **linear regression** ve **logistic regression** modelleri\n",
    "\n",
    "\n",
    "|<p style=\"text-align:center\">*linear regression*</p>|<p style=\"text-align:center\">*logistic regression*</p>|\n",
    "|-----|-----|\n",
    "|<p style=\"text-align:center\">$ h = \\theta_2 x_2 + \\theta_1 x_1 + \\theta_0 $</p>|<p style=\"text-align:center\">$h = g(\\theta_2 x_2 + \\theta_1 x_1 + \\theta_0)$ </p>|\n",
    "|<img src=\"images/li_r.png\" />|<img src=\"images/lo_r.png\" />|\n",
    "\n",
    "\n",
    "<br>\n",
    "<br>\n",
    "\n",
    "1. Parametre sayılarımız ( $x_i$ ): 1,2,3 ... Peki yeterli mi?\n",
    "2. Peki ya verilerimizi bir çizgi ile ayıramazsak? Mesela: \n",
    "<br>\n",
    "<img style=\"width: 40%;height: 40%;\" src=\"images/limit_ex.png\" />\n",
    "\n",
    "\n",
    "<!--<h6>4 boyutlu bir uzay: </h6>\n",
    "<video controls src=\"https://youtu.be/zwAD6dRSVyI?t=690\" />-->\n",
    "\n",
    "\n",
    "<br>\n",
    "<br>\n",
    "\n",
    "\n",
    "Gerçek dünyada feature sayısımız çok fazladır. Mesela:\n",
    "\n",
    "<br>\n",
    "\n",
    "|  |  |\n",
    "|-----|-----|\n",
    "|||\n",
    "|<img style=\"width: 65%;height: 45%;\" src=\"images/1.png\" />|<img style=\"width: 70%;height: 50%;\" src=\"images/2.png\" />|\n",
    "\n"
   ]
  },
  {
   "cell_type": "markdown",
   "metadata": {},
   "source": [
    "> Peki bu kadar fazla feature boyutumuz varsa çözüm ne olabilir -> yapay sinir ağları"
   ]
  },
  {
   "cell_type": "markdown",
   "metadata": {},
   "source": [
    "# Yapay sinir ağları\n",
    "\n",
    "### Sinir Ağı Modeli\n",
    "\n",
    "<img style=\"width: 70%;height: 70%;\" src=\"images/neuron.jpg\" />\n",
    "\n",
    "### Yapay sinir Ağı Modeli\n",
    "\n",
    "<img style=\"width: 50%;height: 50%;\" src=\"images/nn1.png\" />\n",
    "\n",
    "$$ h_{\\theta}(x) = \\dfrac{1}{1 + e^{-\\theta^T X}} $$\n",
    "\n",
    "<img style=\"width: 50%;height: 50%;\" src=\"images/nn2.png\" />\n",
    "\n"
   ]
  },
  {
   "cell_type": "markdown",
   "metadata": {},
   "source": [
    "> <h6>Forward Propagation nedir?</h6>"
   ]
  },
  {
   "cell_type": "markdown",
   "metadata": {},
   "source": [
    "##### *AND* Örneği\n",
    "\n",
    "<img style=\"width: 40%;height: 40%;\" src=\"images/and.png\" />\n"
   ]
  },
  {
   "cell_type": "markdown",
   "metadata": {},
   "source": [
    "$$ x_1, x_2 : {0,1}  $$\n",
    "<br>\n",
    "$$ w_1: -30 $$\n",
    "$$ w_2 : +20 $$\n",
    "$$ w_3: +20 $$"
   ]
  },
  {
   "cell_type": "markdown",
   "metadata": {},
   "source": [
    "<h6>Yapay sinir ağları ile el yazısı tanıma:</h6>\n",
    "<video controls src=\"https://www.youtube.com/watch?v=yxuRnBEczUU\"/>"
   ]
  },
  {
   "cell_type": "code",
   "execution_count": null,
   "metadata": {},
   "outputs": [],
   "source": []
  }
 ],
 "metadata": {
  "kernelspec": {
   "display_name": "Python 3",
   "language": "python",
   "name": "python3"
  },
  "language_info": {
   "codemirror_mode": {
    "name": "ipython",
    "version": 3
   },
   "file_extension": ".py",
   "mimetype": "text/x-python",
   "name": "python",
   "nbconvert_exporter": "python",
   "pygments_lexer": "ipython3",
   "version": "3.6.4"
  }
 },
 "nbformat": 4,
 "nbformat_minor": 2
}
